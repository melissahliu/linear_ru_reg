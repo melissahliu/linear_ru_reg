{
 "cells": [
  {
   "cell_type": "code",
   "execution_count": 1,
   "id": "9ebedb06",
   "metadata": {},
   "outputs": [],
   "source": [
    "import pdb\n",
    "import numpy as np\n",
    "import pandas as pd\n",
    "import matplotlib.pyplot as plt\n",
    "from sklearn.linear_model import LinearRegression\n",
    "from sklearn.metrics import mean_squared_error\n",
    "import torch\n",
    "from torch.utils.data import DataLoader, Dataset, TensorDataset\n",
    "from torch import nn, optim\n",
    "from torch.autograd import Variable\n",
    "import pytorch_lightning as pl\n",
    "from pytorch_lightning import Trainer\n",
    "from pytorch_lightning.callbacks import ModelCheckpoint"
   ]
  },
  {
   "cell_type": "code",
   "execution_count": 2,
   "id": "1b8f4de0",
   "metadata": {},
   "outputs": [],
   "source": [
    "def generate_shift_one_dim_dataset(n, p, q, seed):\n",
    "    rng = np.random.RandomState(seed)\n",
    "    \n",
    "    us1 = rng.binomial(n=1, p=p, size=int(n * q))\n",
    "    xs1 = rng.uniform(0.0, 10.0, size=int(n * q))\n",
    "    noise1 = rng.normal(0.0, 20.0, size=int(n * q))\n",
    "    ys1 = xs1 * xs1 * xs1 + 1 * xs1 * xs1 * xs1 * us1 + noise1\n",
    "    \n",
    "    us2 = rng.binomial(n=1, p=p, size=int(n * (1 - q)))\n",
    "    xs2 = rng.uniform(0.0, 1.0, size=int(n * (1 - q)))\n",
    "    noise2 = rng.normal(0.0, 20.0, size=int(n * (1 - q)))\n",
    "    ys2 = xs2 * xs2 * xs2 + 1 * xs2 * xs2 * xs2 * us2 + noise2\n",
    "    \n",
    "    xs = np.concatenate((xs1, xs2))\n",
    "    ys = np.concatenate((ys1, ys2))\n",
    "    return xs.reshape(-1, 1), ys.reshape(-1, 1)"
   ]
  },
  {
   "cell_type": "code",
   "execution_count": 3,
   "id": "1b5d5a65",
   "metadata": {},
   "outputs": [],
   "source": [
    "def standardize(data):\n",
    "    mu = data.mean(axis=0, keepdims=1)\n",
    "    scale = data.std(axis=0, keepdims=1)\n",
    "    # scale[scale < 1e-10] = 1.0\n",
    "    data = (data - mu) / scale\n",
    "    return data, mu, scale"
   ]
  },
  {
   "cell_type": "code",
   "execution_count": 4,
   "id": "a7945c75",
   "metadata": {},
   "outputs": [],
   "source": [
    "def get_dataloaders(\n",
    "    X_unstandardized, y_unstandardized, X_train, y_train, X_val, y_val, X_tests, y_tests, seed,\n",
    "):\n",
    "    X_train, x_train_mu, x_train_scale = standardize(X_train)\n",
    "    y_train, y_train_mu, y_train_scale = standardize(y_train)\n",
    "    \n",
    "    X_val = (X_val - x_train_mu) / x_train_scale\n",
    "    y_val = (y_val - y_train_mu) / y_train_scale\n",
    "    \n",
    "    for i in range(len(y_tests)):\n",
    "        y_tests[i] = (y_tests[i] - y_train_mu) / y_train_scale\n",
    "        X_tests[i] = (X_tests[i] - x_train_mu) / x_train_scale\n",
    "\n",
    "    x_train_mu = x_train_mu.item()\n",
    "    x_train_scale = x_train_scale.item()\n",
    "    y_train_mu = y_train_mu.item()\n",
    "    y_train_scale = y_train_scale.item()\n",
    "    \n",
    "    train = TensorDataset(\n",
    "        torch.Tensor(X_train),\n",
    "        torch.Tensor(y_train),\n",
    "    )\n",
    "    train_loader = DataLoader(\n",
    "        train, batch_size=int(X_train.shape[0] * 0.25), shuffle=True\n",
    "    )\n",
    "\n",
    "    val = TensorDataset(\n",
    "        torch.Tensor(X_val),\n",
    "        torch.Tensor(y_val),\n",
    "    )\n",
    "    val_loader = DataLoader(val, batch_size=len(val), shuffle=False)\n",
    "\n",
    "    test_loaders = []\n",
    "    for i in range(len(y_tests)):\n",
    "        test = TensorDataset(\n",
    "            torch.Tensor(X_tests[i]),\n",
    "            torch.Tensor(y_tests[i]),\n",
    "        )\n",
    "        test_loader = DataLoader(test, batch_size=len(test), shuffle=False)\n",
    "        test_loaders.append(test_loader)\n",
    "\n",
    "    return (\n",
    "        X_unstandardized,\n",
    "        y_unstandardized,\n",
    "        train_loader,\n",
    "        val_loader,\n",
    "        test_loaders,\n",
    "        X_train[0].shape[0],\n",
    "        x_train_mu,\n",
    "        x_train_scale,\n",
    "        y_train_mu,\n",
    "        y_train_scale,\n",
    "    )"
   ]
  },
  {
   "cell_type": "code",
   "execution_count": 5,
   "id": "3c6ffe8a",
   "metadata": {},
   "outputs": [],
   "source": [
    "def get_shift_one_dim_dataloaders(\n",
    "    n_train, seed, p_train, q_train, p_tests, q_tests\n",
    "):\n",
    "    X_train, y_train = generate_shift_one_dim_dataset(\n",
    "        n=n_train, p=p_train, q=q_train, seed=seed\n",
    "    )\n",
    "    \n",
    "    X_val, y_val = generate_shift_one_dim_dataset(\n",
    "        n=int(n_train * 0.2), p=p_train, q=q_train, seed=seed\n",
    "    )\n",
    "    \n",
    "    X_tests = []\n",
    "    y_tests = []\n",
    "    X_unstandardized = []\n",
    "    y_unstandardized = []\n",
    "    for q_test in q_tests:\n",
    "        for p_test in p_tests:\n",
    "            X_test, y_test = generate_shift_one_dim_dataset(\n",
    "                n=10000, p=p_test, q=q_test, seed=seed + 1\n",
    "            )\n",
    "            X_tests.append(X_test)\n",
    "            y_tests.append(y_test)\n",
    "            X_unstandardized.append(X_test)\n",
    "            y_unstandardized.append(y_test)\n",
    "    \n",
    "    return (\n",
    "        get_dataloaders(X_unstandardized, y_unstandardized, X_train, y_train, X_val, y_val, X_tests, y_tests, seed)\n",
    "    )"
   ]
  },
  {
   "cell_type": "code",
   "execution_count": 6,
   "id": "caa71124",
   "metadata": {},
   "outputs": [],
   "source": [
    "p_tests = [0.5, 0.9]\n",
    "q_tests = [1, 0.5, 0.1]\n",
    "X_unstandardized, y_unstandardized, train_loader, val_loader, test_loaders, X_train_shape, x_train_mu, x_train_scale, y_train_mu, y_train_scale = get_shift_one_dim_dataloaders(n_train=7000, seed=42, p_train=0.5, q_train=0.5, p_tests=p_tests, q_tests=q_tests)"
   ]
  },
  {
   "cell_type": "code",
   "execution_count": 7,
   "id": "6b96ef55",
   "metadata": {},
   "outputs": [],
   "source": [
    "l_rate = 0.01 #appropriate learning rate? 1e-2 or 1e-3\n",
    "mse_loss = nn.MSELoss(reduction = 'mean')"
   ]
  },
  {
   "cell_type": "code",
   "execution_count": 27,
   "id": "17214053",
   "metadata": {},
   "outputs": [],
   "source": [
    "class Regression(pl.LightningModule):\n",
    "    def __init__(self):\n",
    "        super(Regression, self).__init__()\n",
    "        self.fc1 = nn.Linear(1, 1) #how many layers and what size?\n",
    "        self.validation_losses = []\n",
    "        self.test_losses = []\n",
    "\n",
    "    def forward(self, x):\n",
    "        x = self.fc1(x)  # No activation function?\n",
    "        return x\n",
    "    \n",
    "    def configure_optimizers(self):\n",
    "        return optim.Adam(self.parameters(), lr=l_rate) #adam optimizer\n",
    "    \n",
    "    def training_step(self, batch, batch_idx):\n",
    "        breakpoint()\n",
    "        x, y = batch\n",
    "        logits = self.forward(x)\n",
    "        loss = mse_loss(logits, y)\n",
    "        logs = {'loss': loss}\n",
    "        training_losses.append(loss.item())\n",
    "        return {'loss': loss, 'log': logs}\n",
    "    \n",
    "    def validation_step(self, batch, batch_idx):\n",
    "        breakpoint()\n",
    "        x, y = batch\n",
    "        logits = self.forward(x)\n",
    "        loss = mse_loss(logits, y)\n",
    "        self.log('val_loss', loss) #why do i get error message w/o this line\n",
    "        self.validation_losses.append(loss.item())\n",
    "        validation_losses.append(loss.item())\n",
    "        return loss\n",
    "\n",
    "    def on_validation_epoch_end(self):\n",
    "        breakpoint()\n",
    "        avg_loss = sum(self.validation_losses) / len(self.validation_losses)\n",
    "        tensorboard_logs = {'val_loss': avg_loss}\n",
    "        self.log('avg_val_loss', avg_loss, on_epoch=True, prog_bar=True)\n",
    "        \n",
    "    def test_step(self, batch, batch_idx):\n",
    "        breakpoint()\n",
    "        x, y = batch\n",
    "        logits = self.forward(x)\n",
    "        loss = mse_loss(logits, y)\n",
    "        predictions.append(logits)\n",
    "        self.test_losses.append(loss.item())\n",
    "        return loss\n",
    "    \n",
    "    def on_test_epoch_end(self):\n",
    "        breakpoint()\n",
    "        avg_loss = y_train_scale * y_train_scale * sum(self.test_losses) / len(self.test_losses)\n",
    "        logs = {'test_loss': avg_loss}      \n",
    "        avg_losses.append(avg_loss)\n",
    "        return avg_loss"
   ]
  },
  {
   "cell_type": "code",
   "execution_count": 28,
   "id": "03ec657b",
   "metadata": {},
   "outputs": [
    {
     "name": "stderr",
     "output_type": "stream",
     "text": [
      "GPU available: False, used: False\n",
      "TPU available: False, using: 0 TPU cores\n",
      "IPU available: False, using: 0 IPUs\n",
      "HPU available: False, using: 0 HPUs\n",
      "\n",
      "  | Name | Type   | Params\n",
      "--------------------------------\n",
      "0 | fc1  | Linear | 2     \n",
      "--------------------------------\n",
      "2         Trainable params\n",
      "0         Non-trainable params\n",
      "2         Total params\n",
      "0.000     Total estimated model params size (MB)\n"
     ]
    },
    {
     "data": {
      "application/vnd.jupyter.widget-view+json": {
       "model_id": "",
       "version_major": 2,
       "version_minor": 0
      },
      "text/plain": [
       "Sanity Checking: 0it [00:00, ?it/s]"
      ]
     },
     "metadata": {},
     "output_type": "display_data"
    },
    {
     "data": {
      "application/vnd.jupyter.widget-view+json": {
       "model_id": "e2dc0ec7e1494b02b7d9640b22acd3cf",
       "version_major": 2,
       "version_minor": 0
      },
      "text/plain": [
       "Training: 0it [00:00, ?it/s]"
      ]
     },
     "metadata": {},
     "output_type": "display_data"
    },
    {
     "data": {
      "application/vnd.jupyter.widget-view+json": {
       "model_id": "",
       "version_major": 2,
       "version_minor": 0
      },
      "text/plain": [
       "Validation: 0it [00:00, ?it/s]"
      ]
     },
     "metadata": {},
     "output_type": "display_data"
    },
    {
     "data": {
      "application/vnd.jupyter.widget-view+json": {
       "model_id": "",
       "version_major": 2,
       "version_minor": 0
      },
      "text/plain": [
       "Validation: 0it [00:00, ?it/s]"
      ]
     },
     "metadata": {},
     "output_type": "display_data"
    },
    {
     "data": {
      "application/vnd.jupyter.widget-view+json": {
       "model_id": "",
       "version_major": 2,
       "version_minor": 0
      },
      "text/plain": [
       "Validation: 0it [00:00, ?it/s]"
      ]
     },
     "metadata": {},
     "output_type": "display_data"
    },
    {
     "data": {
      "application/vnd.jupyter.widget-view+json": {
       "model_id": "",
       "version_major": 2,
       "version_minor": 0
      },
      "text/plain": [
       "Validation: 0it [00:00, ?it/s]"
      ]
     },
     "metadata": {},
     "output_type": "display_data"
    },
    {
     "data": {
      "application/vnd.jupyter.widget-view+json": {
       "model_id": "",
       "version_major": 2,
       "version_minor": 0
      },
      "text/plain": [
       "Validation: 0it [00:00, ?it/s]"
      ]
     },
     "metadata": {},
     "output_type": "display_data"
    },
    {
     "data": {
      "application/vnd.jupyter.widget-view+json": {
       "model_id": "",
       "version_major": 2,
       "version_minor": 0
      },
      "text/plain": [
       "Validation: 0it [00:00, ?it/s]"
      ]
     },
     "metadata": {},
     "output_type": "display_data"
    },
    {
     "data": {
      "application/vnd.jupyter.widget-view+json": {
       "model_id": "",
       "version_major": 2,
       "version_minor": 0
      },
      "text/plain": [
       "Validation: 0it [00:00, ?it/s]"
      ]
     },
     "metadata": {},
     "output_type": "display_data"
    },
    {
     "data": {
      "application/vnd.jupyter.widget-view+json": {
       "model_id": "",
       "version_major": 2,
       "version_minor": 0
      },
      "text/plain": [
       "Validation: 0it [00:00, ?it/s]"
      ]
     },
     "metadata": {},
     "output_type": "display_data"
    },
    {
     "data": {
      "application/vnd.jupyter.widget-view+json": {
       "model_id": "",
       "version_major": 2,
       "version_minor": 0
      },
      "text/plain": [
       "Validation: 0it [00:00, ?it/s]"
      ]
     },
     "metadata": {},
     "output_type": "display_data"
    },
    {
     "data": {
      "application/vnd.jupyter.widget-view+json": {
       "model_id": "",
       "version_major": 2,
       "version_minor": 0
      },
      "text/plain": [
       "Validation: 0it [00:00, ?it/s]"
      ]
     },
     "metadata": {},
     "output_type": "display_data"
    },
    {
     "data": {
      "application/vnd.jupyter.widget-view+json": {
       "model_id": "",
       "version_major": 2,
       "version_minor": 0
      },
      "text/plain": [
       "Validation: 0it [00:00, ?it/s]"
      ]
     },
     "metadata": {},
     "output_type": "display_data"
    },
    {
     "data": {
      "application/vnd.jupyter.widget-view+json": {
       "model_id": "",
       "version_major": 2,
       "version_minor": 0
      },
      "text/plain": [
       "Validation: 0it [00:00, ?it/s]"
      ]
     },
     "metadata": {},
     "output_type": "display_data"
    },
    {
     "data": {
      "application/vnd.jupyter.widget-view+json": {
       "model_id": "",
       "version_major": 2,
       "version_minor": 0
      },
      "text/plain": [
       "Validation: 0it [00:00, ?it/s]"
      ]
     },
     "metadata": {},
     "output_type": "display_data"
    },
    {
     "data": {
      "application/vnd.jupyter.widget-view+json": {
       "model_id": "",
       "version_major": 2,
       "version_minor": 0
      },
      "text/plain": [
       "Validation: 0it [00:00, ?it/s]"
      ]
     },
     "metadata": {},
     "output_type": "display_data"
    },
    {
     "data": {
      "application/vnd.jupyter.widget-view+json": {
       "model_id": "",
       "version_major": 2,
       "version_minor": 0
      },
      "text/plain": [
       "Validation: 0it [00:00, ?it/s]"
      ]
     },
     "metadata": {},
     "output_type": "display_data"
    },
    {
     "data": {
      "application/vnd.jupyter.widget-view+json": {
       "model_id": "",
       "version_major": 2,
       "version_minor": 0
      },
      "text/plain": [
       "Validation: 0it [00:00, ?it/s]"
      ]
     },
     "metadata": {},
     "output_type": "display_data"
    },
    {
     "data": {
      "application/vnd.jupyter.widget-view+json": {
       "model_id": "",
       "version_major": 2,
       "version_minor": 0
      },
      "text/plain": [
       "Validation: 0it [00:00, ?it/s]"
      ]
     },
     "metadata": {},
     "output_type": "display_data"
    },
    {
     "data": {
      "application/vnd.jupyter.widget-view+json": {
       "model_id": "",
       "version_major": 2,
       "version_minor": 0
      },
      "text/plain": [
       "Validation: 0it [00:00, ?it/s]"
      ]
     },
     "metadata": {},
     "output_type": "display_data"
    },
    {
     "data": {
      "application/vnd.jupyter.widget-view+json": {
       "model_id": "",
       "version_major": 2,
       "version_minor": 0
      },
      "text/plain": [
       "Validation: 0it [00:00, ?it/s]"
      ]
     },
     "metadata": {},
     "output_type": "display_data"
    },
    {
     "data": {
      "application/vnd.jupyter.widget-view+json": {
       "model_id": "",
       "version_major": 2,
       "version_minor": 0
      },
      "text/plain": [
       "Validation: 0it [00:00, ?it/s]"
      ]
     },
     "metadata": {},
     "output_type": "display_data"
    },
    {
     "data": {
      "application/vnd.jupyter.widget-view+json": {
       "model_id": "",
       "version_major": 2,
       "version_minor": 0
      },
      "text/plain": [
       "Validation: 0it [00:00, ?it/s]"
      ]
     },
     "metadata": {},
     "output_type": "display_data"
    },
    {
     "data": {
      "application/vnd.jupyter.widget-view+json": {
       "model_id": "",
       "version_major": 2,
       "version_minor": 0
      },
      "text/plain": [
       "Validation: 0it [00:00, ?it/s]"
      ]
     },
     "metadata": {},
     "output_type": "display_data"
    },
    {
     "data": {
      "application/vnd.jupyter.widget-view+json": {
       "model_id": "",
       "version_major": 2,
       "version_minor": 0
      },
      "text/plain": [
       "Validation: 0it [00:00, ?it/s]"
      ]
     },
     "metadata": {},
     "output_type": "display_data"
    },
    {
     "data": {
      "application/vnd.jupyter.widget-view+json": {
       "model_id": "",
       "version_major": 2,
       "version_minor": 0
      },
      "text/plain": [
       "Validation: 0it [00:00, ?it/s]"
      ]
     },
     "metadata": {},
     "output_type": "display_data"
    },
    {
     "data": {
      "application/vnd.jupyter.widget-view+json": {
       "model_id": "",
       "version_major": 2,
       "version_minor": 0
      },
      "text/plain": [
       "Validation: 0it [00:00, ?it/s]"
      ]
     },
     "metadata": {},
     "output_type": "display_data"
    },
    {
     "data": {
      "application/vnd.jupyter.widget-view+json": {
       "model_id": "",
       "version_major": 2,
       "version_minor": 0
      },
      "text/plain": [
       "Validation: 0it [00:00, ?it/s]"
      ]
     },
     "metadata": {},
     "output_type": "display_data"
    },
    {
     "data": {
      "application/vnd.jupyter.widget-view+json": {
       "model_id": "",
       "version_major": 2,
       "version_minor": 0
      },
      "text/plain": [
       "Validation: 0it [00:00, ?it/s]"
      ]
     },
     "metadata": {},
     "output_type": "display_data"
    },
    {
     "data": {
      "application/vnd.jupyter.widget-view+json": {
       "model_id": "",
       "version_major": 2,
       "version_minor": 0
      },
      "text/plain": [
       "Validation: 0it [00:00, ?it/s]"
      ]
     },
     "metadata": {},
     "output_type": "display_data"
    },
    {
     "data": {
      "application/vnd.jupyter.widget-view+json": {
       "model_id": "",
       "version_major": 2,
       "version_minor": 0
      },
      "text/plain": [
       "Validation: 0it [00:00, ?it/s]"
      ]
     },
     "metadata": {},
     "output_type": "display_data"
    },
    {
     "data": {
      "application/vnd.jupyter.widget-view+json": {
       "model_id": "",
       "version_major": 2,
       "version_minor": 0
      },
      "text/plain": [
       "Validation: 0it [00:00, ?it/s]"
      ]
     },
     "metadata": {},
     "output_type": "display_data"
    },
    {
     "data": {
      "application/vnd.jupyter.widget-view+json": {
       "model_id": "",
       "version_major": 2,
       "version_minor": 0
      },
      "text/plain": [
       "Validation: 0it [00:00, ?it/s]"
      ]
     },
     "metadata": {},
     "output_type": "display_data"
    },
    {
     "data": {
      "application/vnd.jupyter.widget-view+json": {
       "model_id": "",
       "version_major": 2,
       "version_minor": 0
      },
      "text/plain": [
       "Validation: 0it [00:00, ?it/s]"
      ]
     },
     "metadata": {},
     "output_type": "display_data"
    },
    {
     "data": {
      "application/vnd.jupyter.widget-view+json": {
       "model_id": "",
       "version_major": 2,
       "version_minor": 0
      },
      "text/plain": [
       "Validation: 0it [00:00, ?it/s]"
      ]
     },
     "metadata": {},
     "output_type": "display_data"
    },
    {
     "data": {
      "application/vnd.jupyter.widget-view+json": {
       "model_id": "",
       "version_major": 2,
       "version_minor": 0
      },
      "text/plain": [
       "Validation: 0it [00:00, ?it/s]"
      ]
     },
     "metadata": {},
     "output_type": "display_data"
    },
    {
     "data": {
      "application/vnd.jupyter.widget-view+json": {
       "model_id": "",
       "version_major": 2,
       "version_minor": 0
      },
      "text/plain": [
       "Validation: 0it [00:00, ?it/s]"
      ]
     },
     "metadata": {},
     "output_type": "display_data"
    },
    {
     "data": {
      "application/vnd.jupyter.widget-view+json": {
       "model_id": "",
       "version_major": 2,
       "version_minor": 0
      },
      "text/plain": [
       "Validation: 0it [00:00, ?it/s]"
      ]
     },
     "metadata": {},
     "output_type": "display_data"
    },
    {
     "data": {
      "application/vnd.jupyter.widget-view+json": {
       "model_id": "",
       "version_major": 2,
       "version_minor": 0
      },
      "text/plain": [
       "Validation: 0it [00:00, ?it/s]"
      ]
     },
     "metadata": {},
     "output_type": "display_data"
    },
    {
     "data": {
      "application/vnd.jupyter.widget-view+json": {
       "model_id": "",
       "version_major": 2,
       "version_minor": 0
      },
      "text/plain": [
       "Validation: 0it [00:00, ?it/s]"
      ]
     },
     "metadata": {},
     "output_type": "display_data"
    },
    {
     "data": {
      "application/vnd.jupyter.widget-view+json": {
       "model_id": "",
       "version_major": 2,
       "version_minor": 0
      },
      "text/plain": [
       "Validation: 0it [00:00, ?it/s]"
      ]
     },
     "metadata": {},
     "output_type": "display_data"
    },
    {
     "data": {
      "application/vnd.jupyter.widget-view+json": {
       "model_id": "",
       "version_major": 2,
       "version_minor": 0
      },
      "text/plain": [
       "Validation: 0it [00:00, ?it/s]"
      ]
     },
     "metadata": {},
     "output_type": "display_data"
    },
    {
     "data": {
      "application/vnd.jupyter.widget-view+json": {
       "model_id": "",
       "version_major": 2,
       "version_minor": 0
      },
      "text/plain": [
       "Validation: 0it [00:00, ?it/s]"
      ]
     },
     "metadata": {},
     "output_type": "display_data"
    },
    {
     "data": {
      "application/vnd.jupyter.widget-view+json": {
       "model_id": "",
       "version_major": 2,
       "version_minor": 0
      },
      "text/plain": [
       "Validation: 0it [00:00, ?it/s]"
      ]
     },
     "metadata": {},
     "output_type": "display_data"
    },
    {
     "data": {
      "application/vnd.jupyter.widget-view+json": {
       "model_id": "",
       "version_major": 2,
       "version_minor": 0
      },
      "text/plain": [
       "Validation: 0it [00:00, ?it/s]"
      ]
     },
     "metadata": {},
     "output_type": "display_data"
    },
    {
     "data": {
      "application/vnd.jupyter.widget-view+json": {
       "model_id": "",
       "version_major": 2,
       "version_minor": 0
      },
      "text/plain": [
       "Validation: 0it [00:00, ?it/s]"
      ]
     },
     "metadata": {},
     "output_type": "display_data"
    },
    {
     "data": {
      "application/vnd.jupyter.widget-view+json": {
       "model_id": "",
       "version_major": 2,
       "version_minor": 0
      },
      "text/plain": [
       "Validation: 0it [00:00, ?it/s]"
      ]
     },
     "metadata": {},
     "output_type": "display_data"
    },
    {
     "data": {
      "application/vnd.jupyter.widget-view+json": {
       "model_id": "",
       "version_major": 2,
       "version_minor": 0
      },
      "text/plain": [
       "Validation: 0it [00:00, ?it/s]"
      ]
     },
     "metadata": {},
     "output_type": "display_data"
    },
    {
     "data": {
      "application/vnd.jupyter.widget-view+json": {
       "model_id": "",
       "version_major": 2,
       "version_minor": 0
      },
      "text/plain": [
       "Validation: 0it [00:00, ?it/s]"
      ]
     },
     "metadata": {},
     "output_type": "display_data"
    },
    {
     "data": {
      "application/vnd.jupyter.widget-view+json": {
       "model_id": "",
       "version_major": 2,
       "version_minor": 0
      },
      "text/plain": [
       "Validation: 0it [00:00, ?it/s]"
      ]
     },
     "metadata": {},
     "output_type": "display_data"
    },
    {
     "data": {
      "application/vnd.jupyter.widget-view+json": {
       "model_id": "",
       "version_major": 2,
       "version_minor": 0
      },
      "text/plain": [
       "Validation: 0it [00:00, ?it/s]"
      ]
     },
     "metadata": {},
     "output_type": "display_data"
    },
    {
     "data": {
      "application/vnd.jupyter.widget-view+json": {
       "model_id": "",
       "version_major": 2,
       "version_minor": 0
      },
      "text/plain": [
       "Validation: 0it [00:00, ?it/s]"
      ]
     },
     "metadata": {},
     "output_type": "display_data"
    },
    {
     "data": {
      "application/vnd.jupyter.widget-view+json": {
       "model_id": "",
       "version_major": 2,
       "version_minor": 0
      },
      "text/plain": [
       "Validation: 0it [00:00, ?it/s]"
      ]
     },
     "metadata": {},
     "output_type": "display_data"
    },
    {
     "data": {
      "application/vnd.jupyter.widget-view+json": {
       "model_id": "",
       "version_major": 2,
       "version_minor": 0
      },
      "text/plain": [
       "Validation: 0it [00:00, ?it/s]"
      ]
     },
     "metadata": {},
     "output_type": "display_data"
    },
    {
     "data": {
      "application/vnd.jupyter.widget-view+json": {
       "model_id": "",
       "version_major": 2,
       "version_minor": 0
      },
      "text/plain": [
       "Validation: 0it [00:00, ?it/s]"
      ]
     },
     "metadata": {},
     "output_type": "display_data"
    },
    {
     "data": {
      "application/vnd.jupyter.widget-view+json": {
       "model_id": "",
       "version_major": 2,
       "version_minor": 0
      },
      "text/plain": [
       "Validation: 0it [00:00, ?it/s]"
      ]
     },
     "metadata": {},
     "output_type": "display_data"
    },
    {
     "data": {
      "application/vnd.jupyter.widget-view+json": {
       "model_id": "",
       "version_major": 2,
       "version_minor": 0
      },
      "text/plain": [
       "Validation: 0it [00:00, ?it/s]"
      ]
     },
     "metadata": {},
     "output_type": "display_data"
    },
    {
     "data": {
      "application/vnd.jupyter.widget-view+json": {
       "model_id": "",
       "version_major": 2,
       "version_minor": 0
      },
      "text/plain": [
       "Validation: 0it [00:00, ?it/s]"
      ]
     },
     "metadata": {},
     "output_type": "display_data"
    },
    {
     "data": {
      "application/vnd.jupyter.widget-view+json": {
       "model_id": "",
       "version_major": 2,
       "version_minor": 0
      },
      "text/plain": [
       "Validation: 0it [00:00, ?it/s]"
      ]
     },
     "metadata": {},
     "output_type": "display_data"
    },
    {
     "data": {
      "application/vnd.jupyter.widget-view+json": {
       "model_id": "",
       "version_major": 2,
       "version_minor": 0
      },
      "text/plain": [
       "Validation: 0it [00:00, ?it/s]"
      ]
     },
     "metadata": {},
     "output_type": "display_data"
    },
    {
     "data": {
      "application/vnd.jupyter.widget-view+json": {
       "model_id": "",
       "version_major": 2,
       "version_minor": 0
      },
      "text/plain": [
       "Validation: 0it [00:00, ?it/s]"
      ]
     },
     "metadata": {},
     "output_type": "display_data"
    },
    {
     "data": {
      "application/vnd.jupyter.widget-view+json": {
       "model_id": "",
       "version_major": 2,
       "version_minor": 0
      },
      "text/plain": [
       "Validation: 0it [00:00, ?it/s]"
      ]
     },
     "metadata": {},
     "output_type": "display_data"
    },
    {
     "data": {
      "application/vnd.jupyter.widget-view+json": {
       "model_id": "",
       "version_major": 2,
       "version_minor": 0
      },
      "text/plain": [
       "Validation: 0it [00:00, ?it/s]"
      ]
     },
     "metadata": {},
     "output_type": "display_data"
    },
    {
     "data": {
      "application/vnd.jupyter.widget-view+json": {
       "model_id": "",
       "version_major": 2,
       "version_minor": 0
      },
      "text/plain": [
       "Validation: 0it [00:00, ?it/s]"
      ]
     },
     "metadata": {},
     "output_type": "display_data"
    },
    {
     "data": {
      "application/vnd.jupyter.widget-view+json": {
       "model_id": "",
       "version_major": 2,
       "version_minor": 0
      },
      "text/plain": [
       "Validation: 0it [00:00, ?it/s]"
      ]
     },
     "metadata": {},
     "output_type": "display_data"
    },
    {
     "data": {
      "application/vnd.jupyter.widget-view+json": {
       "model_id": "",
       "version_major": 2,
       "version_minor": 0
      },
      "text/plain": [
       "Validation: 0it [00:00, ?it/s]"
      ]
     },
     "metadata": {},
     "output_type": "display_data"
    },
    {
     "data": {
      "application/vnd.jupyter.widget-view+json": {
       "model_id": "",
       "version_major": 2,
       "version_minor": 0
      },
      "text/plain": [
       "Validation: 0it [00:00, ?it/s]"
      ]
     },
     "metadata": {},
     "output_type": "display_data"
    },
    {
     "data": {
      "application/vnd.jupyter.widget-view+json": {
       "model_id": "",
       "version_major": 2,
       "version_minor": 0
      },
      "text/plain": [
       "Validation: 0it [00:00, ?it/s]"
      ]
     },
     "metadata": {},
     "output_type": "display_data"
    },
    {
     "data": {
      "application/vnd.jupyter.widget-view+json": {
       "model_id": "",
       "version_major": 2,
       "version_minor": 0
      },
      "text/plain": [
       "Validation: 0it [00:00, ?it/s]"
      ]
     },
     "metadata": {},
     "output_type": "display_data"
    },
    {
     "data": {
      "application/vnd.jupyter.widget-view+json": {
       "model_id": "",
       "version_major": 2,
       "version_minor": 0
      },
      "text/plain": [
       "Validation: 0it [00:00, ?it/s]"
      ]
     },
     "metadata": {},
     "output_type": "display_data"
    },
    {
     "data": {
      "application/vnd.jupyter.widget-view+json": {
       "model_id": "",
       "version_major": 2,
       "version_minor": 0
      },
      "text/plain": [
       "Validation: 0it [00:00, ?it/s]"
      ]
     },
     "metadata": {},
     "output_type": "display_data"
    },
    {
     "data": {
      "application/vnd.jupyter.widget-view+json": {
       "model_id": "",
       "version_major": 2,
       "version_minor": 0
      },
      "text/plain": [
       "Validation: 0it [00:00, ?it/s]"
      ]
     },
     "metadata": {},
     "output_type": "display_data"
    },
    {
     "data": {
      "application/vnd.jupyter.widget-view+json": {
       "model_id": "",
       "version_major": 2,
       "version_minor": 0
      },
      "text/plain": [
       "Validation: 0it [00:00, ?it/s]"
      ]
     },
     "metadata": {},
     "output_type": "display_data"
    },
    {
     "data": {
      "application/vnd.jupyter.widget-view+json": {
       "model_id": "",
       "version_major": 2,
       "version_minor": 0
      },
      "text/plain": [
       "Validation: 0it [00:00, ?it/s]"
      ]
     },
     "metadata": {},
     "output_type": "display_data"
    },
    {
     "data": {
      "application/vnd.jupyter.widget-view+json": {
       "model_id": "",
       "version_major": 2,
       "version_minor": 0
      },
      "text/plain": [
       "Validation: 0it [00:00, ?it/s]"
      ]
     },
     "metadata": {},
     "output_type": "display_data"
    },
    {
     "data": {
      "application/vnd.jupyter.widget-view+json": {
       "model_id": "",
       "version_major": 2,
       "version_minor": 0
      },
      "text/plain": [
       "Validation: 0it [00:00, ?it/s]"
      ]
     },
     "metadata": {},
     "output_type": "display_data"
    },
    {
     "data": {
      "application/vnd.jupyter.widget-view+json": {
       "model_id": "",
       "version_major": 2,
       "version_minor": 0
      },
      "text/plain": [
       "Validation: 0it [00:00, ?it/s]"
      ]
     },
     "metadata": {},
     "output_type": "display_data"
    },
    {
     "data": {
      "application/vnd.jupyter.widget-view+json": {
       "model_id": "",
       "version_major": 2,
       "version_minor": 0
      },
      "text/plain": [
       "Validation: 0it [00:00, ?it/s]"
      ]
     },
     "metadata": {},
     "output_type": "display_data"
    },
    {
     "data": {
      "application/vnd.jupyter.widget-view+json": {
       "model_id": "",
       "version_major": 2,
       "version_minor": 0
      },
      "text/plain": [
       "Validation: 0it [00:00, ?it/s]"
      ]
     },
     "metadata": {},
     "output_type": "display_data"
    },
    {
     "data": {
      "application/vnd.jupyter.widget-view+json": {
       "model_id": "",
       "version_major": 2,
       "version_minor": 0
      },
      "text/plain": [
       "Validation: 0it [00:00, ?it/s]"
      ]
     },
     "metadata": {},
     "output_type": "display_data"
    },
    {
     "data": {
      "application/vnd.jupyter.widget-view+json": {
       "model_id": "",
       "version_major": 2,
       "version_minor": 0
      },
      "text/plain": [
       "Validation: 0it [00:00, ?it/s]"
      ]
     },
     "metadata": {},
     "output_type": "display_data"
    },
    {
     "data": {
      "application/vnd.jupyter.widget-view+json": {
       "model_id": "",
       "version_major": 2,
       "version_minor": 0
      },
      "text/plain": [
       "Validation: 0it [00:00, ?it/s]"
      ]
     },
     "metadata": {},
     "output_type": "display_data"
    },
    {
     "data": {
      "application/vnd.jupyter.widget-view+json": {
       "model_id": "",
       "version_major": 2,
       "version_minor": 0
      },
      "text/plain": [
       "Validation: 0it [00:00, ?it/s]"
      ]
     },
     "metadata": {},
     "output_type": "display_data"
    },
    {
     "data": {
      "application/vnd.jupyter.widget-view+json": {
       "model_id": "",
       "version_major": 2,
       "version_minor": 0
      },
      "text/plain": [
       "Validation: 0it [00:00, ?it/s]"
      ]
     },
     "metadata": {},
     "output_type": "display_data"
    },
    {
     "data": {
      "application/vnd.jupyter.widget-view+json": {
       "model_id": "",
       "version_major": 2,
       "version_minor": 0
      },
      "text/plain": [
       "Validation: 0it [00:00, ?it/s]"
      ]
     },
     "metadata": {},
     "output_type": "display_data"
    },
    {
     "data": {
      "application/vnd.jupyter.widget-view+json": {
       "model_id": "",
       "version_major": 2,
       "version_minor": 0
      },
      "text/plain": [
       "Validation: 0it [00:00, ?it/s]"
      ]
     },
     "metadata": {},
     "output_type": "display_data"
    },
    {
     "data": {
      "application/vnd.jupyter.widget-view+json": {
       "model_id": "",
       "version_major": 2,
       "version_minor": 0
      },
      "text/plain": [
       "Validation: 0it [00:00, ?it/s]"
      ]
     },
     "metadata": {},
     "output_type": "display_data"
    },
    {
     "data": {
      "application/vnd.jupyter.widget-view+json": {
       "model_id": "",
       "version_major": 2,
       "version_minor": 0
      },
      "text/plain": [
       "Validation: 0it [00:00, ?it/s]"
      ]
     },
     "metadata": {},
     "output_type": "display_data"
    },
    {
     "data": {
      "application/vnd.jupyter.widget-view+json": {
       "model_id": "",
       "version_major": 2,
       "version_minor": 0
      },
      "text/plain": [
       "Validation: 0it [00:00, ?it/s]"
      ]
     },
     "metadata": {},
     "output_type": "display_data"
    },
    {
     "data": {
      "application/vnd.jupyter.widget-view+json": {
       "model_id": "",
       "version_major": 2,
       "version_minor": 0
      },
      "text/plain": [
       "Validation: 0it [00:00, ?it/s]"
      ]
     },
     "metadata": {},
     "output_type": "display_data"
    },
    {
     "data": {
      "application/vnd.jupyter.widget-view+json": {
       "model_id": "",
       "version_major": 2,
       "version_minor": 0
      },
      "text/plain": [
       "Validation: 0it [00:00, ?it/s]"
      ]
     },
     "metadata": {},
     "output_type": "display_data"
    },
    {
     "data": {
      "application/vnd.jupyter.widget-view+json": {
       "model_id": "",
       "version_major": 2,
       "version_minor": 0
      },
      "text/plain": [
       "Validation: 0it [00:00, ?it/s]"
      ]
     },
     "metadata": {},
     "output_type": "display_data"
    },
    {
     "data": {
      "application/vnd.jupyter.widget-view+json": {
       "model_id": "",
       "version_major": 2,
       "version_minor": 0
      },
      "text/plain": [
       "Validation: 0it [00:00, ?it/s]"
      ]
     },
     "metadata": {},
     "output_type": "display_data"
    },
    {
     "data": {
      "application/vnd.jupyter.widget-view+json": {
       "model_id": "",
       "version_major": 2,
       "version_minor": 0
      },
      "text/plain": [
       "Validation: 0it [00:00, ?it/s]"
      ]
     },
     "metadata": {},
     "output_type": "display_data"
    },
    {
     "data": {
      "application/vnd.jupyter.widget-view+json": {
       "model_id": "",
       "version_major": 2,
       "version_minor": 0
      },
      "text/plain": [
       "Validation: 0it [00:00, ?it/s]"
      ]
     },
     "metadata": {},
     "output_type": "display_data"
    },
    {
     "data": {
      "application/vnd.jupyter.widget-view+json": {
       "model_id": "",
       "version_major": 2,
       "version_minor": 0
      },
      "text/plain": [
       "Validation: 0it [00:00, ?it/s]"
      ]
     },
     "metadata": {},
     "output_type": "display_data"
    },
    {
     "data": {
      "application/vnd.jupyter.widget-view+json": {
       "model_id": "",
       "version_major": 2,
       "version_minor": 0
      },
      "text/plain": [
       "Validation: 0it [00:00, ?it/s]"
      ]
     },
     "metadata": {},
     "output_type": "display_data"
    },
    {
     "data": {
      "application/vnd.jupyter.widget-view+json": {
       "model_id": "",
       "version_major": 2,
       "version_minor": 0
      },
      "text/plain": [
       "Validation: 0it [00:00, ?it/s]"
      ]
     },
     "metadata": {},
     "output_type": "display_data"
    },
    {
     "data": {
      "application/vnd.jupyter.widget-view+json": {
       "model_id": "",
       "version_major": 2,
       "version_minor": 0
      },
      "text/plain": [
       "Validation: 0it [00:00, ?it/s]"
      ]
     },
     "metadata": {},
     "output_type": "display_data"
    },
    {
     "data": {
      "application/vnd.jupyter.widget-view+json": {
       "model_id": "",
       "version_major": 2,
       "version_minor": 0
      },
      "text/plain": [
       "Validation: 0it [00:00, ?it/s]"
      ]
     },
     "metadata": {},
     "output_type": "display_data"
    },
    {
     "data": {
      "application/vnd.jupyter.widget-view+json": {
       "model_id": "",
       "version_major": 2,
       "version_minor": 0
      },
      "text/plain": [
       "Validation: 0it [00:00, ?it/s]"
      ]
     },
     "metadata": {},
     "output_type": "display_data"
    },
    {
     "data": {
      "application/vnd.jupyter.widget-view+json": {
       "model_id": "",
       "version_major": 2,
       "version_minor": 0
      },
      "text/plain": [
       "Validation: 0it [00:00, ?it/s]"
      ]
     },
     "metadata": {},
     "output_type": "display_data"
    },
    {
     "name": "stderr",
     "output_type": "stream",
     "text": [
      "`Trainer.fit` stopped: `max_epochs=100` reached.\n"
     ]
    }
   ],
   "source": [
    "training_losses = []\n",
    "validation_losses = []\n",
    "model = Regression()\n",
    "checkpoint_callback = ModelCheckpoint(monitor='val_loss', dirpath='checkpoints/')\n",
    "trainer = Trainer(max_epochs = 100, callbacks=[checkpoint_callback]) #epochs\n",
    "trainer.fit(model, train_dataloaders=train_loader, val_dataloaders=val_loader) #comment out dataloader functions and make loop and pass dataloaders"
   ]
  },
  {
   "cell_type": "code",
   "execution_count": 29,
   "id": "5e720199",
   "metadata": {},
   "outputs": [
    {
     "data": {
      "image/png": "[encoded data removed]",
      "text/plain": [
       "<Figure size 1000x500 with 1 Axes>"
      ]
     },
     "metadata": {},
     "output_type": "display_data"
    }
   ],
   "source": [
    "fig, ax2 = plt.subplots(1, 1, figsize=(10, 5))\n",
    "ax2.scatter(np.arange(1, 401), training_losses, alpha=0.2)\n",
    "ax2.set_xlabel(r\"$epoch$\", fontsize=20)\n",
    "ax2.set_ylabel(r\"$training loss$\", fontsize=20)\n",
    "ax2.set_ylim(0, 1.2)\n",
    "plt.show()"
   ]
  },
  {
   "cell_type": "code",
   "execution_count": 30,
   "id": "f0ad765b",
   "metadata": {},
   "outputs": [
    {
     "data": {
      "image/png": "[encoded data removed]",
      "text/plain": [
       "<Figure size 1000x500 with 1 Axes>"
      ]
     },
     "metadata": {},
     "output_type": "display_data"
    }
   ],
   "source": [
    "fig, ax2 = plt.subplots(1, 1, figsize=(10, 5))\n",
    "ax2.scatter(np.arange(1, 102), validation_losses, alpha=0.2)\n",
    "ax2.set_xlabel(r\"$epoch$\", fontsize=20)\n",
    "ax2.set_ylabel(r\"$validation loss$\", fontsize=20)\n",
    "ax2.set_ylim(0, 0.4)\n",
    "plt.show()"
   ]
  },
  {
   "cell_type": "code",
   "execution_count": 31,
   "id": "e0b62091",
   "metadata": {},
   "outputs": [
    {
     "name": "stderr",
     "output_type": "stream",
     "text": [
      "Restoring states from the checkpoint path at /home/groups/swager/mliu1785/linear_ru_reg/checkpoints/checkpoints/epoch=95-step=384.ckpt\n",
      "Loaded model weights from the checkpoint at /home/groups/swager/mliu1785/linear_ru_reg/checkpoints/checkpoints/epoch=95-step=384.ckpt\n"
     ]
    },
    {
     "data": {
      "application/vnd.jupyter.widget-view+json": {
       "model_id": "f1b3d7096c4a4917b990585663e04f5b",
       "version_major": 2,
       "version_minor": 0
      },
      "text/plain": [
       "Testing: 0it [00:00, ?it/s]"
      ]
     },
     "metadata": {},
     "output_type": "display_data"
    },
    {
     "name": "stderr",
     "output_type": "stream",
     "text": [
      "Restoring states from the checkpoint path at /home/groups/swager/mliu1785/linear_ru_reg/checkpoints/checkpoints/epoch=95-step=384.ckpt\n",
      "Loaded model weights from the checkpoint at /home/groups/swager/mliu1785/linear_ru_reg/checkpoints/checkpoints/epoch=95-step=384.ckpt\n"
     ]
    },
    {
     "data": {
      "application/vnd.jupyter.widget-view+json": {
       "model_id": "76c100be8f004a52be3bb74a1c4d77aa",
       "version_major": 2,
       "version_minor": 0
      },
      "text/plain": [
       "Testing: 0it [00:00, ?it/s]"
      ]
     },
     "metadata": {},
     "output_type": "display_data"
    },
    {
     "name": "stderr",
     "output_type": "stream",
     "text": [
      "Restoring states from the checkpoint path at /home/groups/swager/mliu1785/linear_ru_reg/checkpoints/checkpoints/epoch=95-step=384.ckpt\n",
      "Loaded model weights from the checkpoint at /home/groups/swager/mliu1785/linear_ru_reg/checkpoints/checkpoints/epoch=95-step=384.ckpt\n"
     ]
    },
    {
     "data": {
      "application/vnd.jupyter.widget-view+json": {
       "model_id": "40f1317b299a40e7ba7815e326cd9d56",
       "version_major": 2,
       "version_minor": 0
      },
      "text/plain": [
       "Testing: 0it [00:00, ?it/s]"
      ]
     },
     "metadata": {},
     "output_type": "display_data"
    },
    {
     "name": "stderr",
     "output_type": "stream",
     "text": [
      "Restoring states from the checkpoint path at /home/groups/swager/mliu1785/linear_ru_reg/checkpoints/checkpoints/epoch=95-step=384.ckpt\n",
      "Loaded model weights from the checkpoint at /home/groups/swager/mliu1785/linear_ru_reg/checkpoints/checkpoints/epoch=95-step=384.ckpt\n"
     ]
    },
    {
     "data": {
      "application/vnd.jupyter.widget-view+json": {
       "model_id": "eae9d969e084429093107368597514d1",
       "version_major": 2,
       "version_minor": 0
      },
      "text/plain": [
       "Testing: 0it [00:00, ?it/s]"
      ]
     },
     "metadata": {},
     "output_type": "display_data"
    },
    {
     "name": "stderr",
     "output_type": "stream",
     "text": [
      "Restoring states from the checkpoint path at /home/groups/swager/mliu1785/linear_ru_reg/checkpoints/checkpoints/epoch=95-step=384.ckpt\n",
      "Loaded model weights from the checkpoint at /home/groups/swager/mliu1785/linear_ru_reg/checkpoints/checkpoints/epoch=95-step=384.ckpt\n"
     ]
    },
    {
     "data": {
      "application/vnd.jupyter.widget-view+json": {
       "model_id": "ff9aed627fe9417d87f93c64a678c00e",
       "version_major": 2,
       "version_minor": 0
      },
      "text/plain": [
       "Testing: 0it [00:00, ?it/s]"
      ]
     },
     "metadata": {},
     "output_type": "display_data"
    },
    {
     "name": "stderr",
     "output_type": "stream",
     "text": [
      "Restoring states from the checkpoint path at /home/groups/swager/mliu1785/linear_ru_reg/checkpoints/checkpoints/epoch=95-step=384.ckpt\n",
      "Loaded model weights from the checkpoint at /home/groups/swager/mliu1785/linear_ru_reg/checkpoints/checkpoints/epoch=95-step=384.ckpt\n"
     ]
    },
    {
     "data": {
      "application/vnd.jupyter.widget-view+json": {
       "model_id": "a5459b72d50241ef993bcc27dc514dcb",
       "version_major": 2,
       "version_minor": 0
      },
      "text/plain": [
       "Testing: 0it [00:00, ?it/s]"
      ]
     },
     "metadata": {},
     "output_type": "display_data"
    },
    {
     "data": {
      "text/plain": [
       "[75177.8238423596,\n",
       " 84910.03434734646,\n",
       " 70013.46137950863,\n",
       " 65138.09481689695,\n",
       " 54426.77419343366,\n",
       " 47503.338932575345]"
      ]
     },
     "execution_count": 31,
     "metadata": {},
     "output_type": "execute_result"
    }
   ],
   "source": [
    "predictions = []\n",
    "avg_losses = []\n",
    "for i, test_loader in enumerate(test_loaders):\n",
    "    trainer.test(dataloaders=test_loader, ckpt_path=\"best\")\n",
    "avg_losses"
   ]
  },
  {
   "cell_type": "code",
   "execution_count": 13,
   "id": "7aa5a28c",
   "metadata": {},
   "outputs": [
    {
     "data": {
      "text/plain": [
       "[[481.1639094562178, -75.15507400353982],\n",
       " [481.1639094562178, -75.15507400353982],\n",
       " [624.4219731776593, 174.74546576025017],\n",
       " [624.4219731776593, 174.74546576025017],\n",
       " [457.1864154970399, 19.848232953338254],\n",
       " [457.1864154970399, 19.848232953338254]]"
      ]
     },
     "execution_count": 13,
     "metadata": {},
     "output_type": "execute_result"
    }
   ],
   "source": [
    "plot_pred = []\n",
    "for i in range(len(X_unstandardized)):\n",
    "    test_pred = []\n",
    "    for j in range(0,2):\n",
    "        pred = predictions[i][j].item() * y_train_scale + y_train_mu\n",
    "        test_pred.append(pred)\n",
    "    plot_pred.append(test_pred)\n",
    "plot_pred"
   ]
  },
  {
   "cell_type": "code",
   "execution_count": 17,
   "id": "523d5317",
   "metadata": {},
   "outputs": [
    {
     "name": "stdout",
     "output_type": "stream",
     "text": [
      "total 2664\r\n",
      "-rw-r--r--  1 mliu1785 swager   4939 Sep  7 13:50 epoch=36-step=148.ckpt\r\n",
      "-rw-r--r--  1 mliu1785 swager 508027 Sep  6 21:52 model_pred.png\r\n",
      "-rw-r--r--  1 mliu1785 swager   4939 Sep  6 21:50 epoch=37-step=152.ckpt\r\n",
      "drwxr-sr-x  4 mliu1785 swager    807 Sep  6 21:45 \u001b[0m\u001b[01;34mcheckpoints\u001b[0m/\r\n",
      "drwxr-sr-x 21 mliu1785 swager    522 Sep  6 21:44 \u001b[01;34mlightning_logs\u001b[0m/\r\n",
      "-rw-r--r--  1 mliu1785 swager   4939 Sep  6 21:38 epoch=23-step=96.ckpt\r\n",
      "-rw-r--r--  1 mliu1785 swager   4939 Sep  6 20:54 epoch=29-step=120.ckpt\r\n",
      "-rw-r--r--  1 mliu1785 swager   4939 Sep  6 20:50 epoch=46-step=188.ckpt\r\n",
      "-rw-r--r--  1 mliu1785 swager   4939 Sep  6 17:01 epoch=99-step=400-v2.ckpt\r\n",
      "-rw-r--r--  1 mliu1785 swager   4939 Sep  6 16:10 epoch=80-step=324.ckpt\r\n",
      "-rw-r--r--  1 mliu1785 swager   4939 Sep  6 16:07 epoch=63-step=256.ckpt\r\n",
      "-rw-r--r--  1 mliu1785 swager   4939 Sep  6 16:05 epoch=27-step=112.ckpt\r\n",
      "-rw-r--r--  1 mliu1785 swager   4939 Sep  6 16:03 epoch=39-step=160.ckpt\r\n",
      "-rw-r--r--  1 mliu1785 swager   4939 Sep  6 16:03 epoch=31-step=128-v1.ckpt\r\n",
      "-rw-r--r--  1 mliu1785 swager 757254 Sep  1 00:15 modelpred_vs_linearreg.png\r\n",
      "-rw-r--r--  1 mliu1785 swager   4939 Aug 31 23:37 epoch=31-step=128.ckpt\r\n",
      "-rw-r--r--  1 mliu1785 swager   4939 Aug 31 23:20 epoch=10-step=44.ckpt\r\n",
      "-rw-r--r--  1 mliu1785 swager   4939 Aug 31 22:43 epoch=49-step=200-v10.ckpt\r\n",
      "-rw-r--r--  1 mliu1785 swager   4939 Aug 31 22:25 epoch=99-step=400-v1.ckpt\r\n",
      "-rw-r--r--  1 mliu1785 swager   4939 Aug 31 22:15 epoch=99-step=400.ckpt\r\n",
      "-rw-r--r--  1 mliu1785 swager   4939 Aug 31 22:15 epoch=69-step=280.ckpt\r\n",
      "-rw-r--r--  1 mliu1785 swager   4939 Aug 31 22:15 epoch=49-step=200-v9.ckpt\r\n",
      "-rw-r--r--  1 mliu1785 swager   4939 Aug 31 22:14 epoch=86-step=348.ckpt\r\n",
      "-rw-r--r--  1 mliu1785 swager   4939 Aug 31 22:13 epoch=49-step=200-v8.ckpt\r\n",
      "-rw-r--r--  1 mliu1785 swager   4939 Aug 31 22:12 epoch=9-step=40-v4.ckpt\r\n",
      "-rw-r--r--  1 mliu1785 swager   4939 Aug 31 22:11 epoch=49-step=200-v7.ckpt\r\n",
      "-rw-r--r--  1 mliu1785 swager   4939 Aug 31 21:48 epoch=49-step=200-v6.ckpt\r\n",
      "-rw-r--r--  1 mliu1785 swager   4939 Aug 31 21:48 epoch=49-step=200-v5.ckpt\r\n",
      "-rw-r--r--  1 mliu1785 swager   4939 Aug 29 22:34 epoch=49-step=200-v4.ckpt\r\n",
      "-rw-r--r--  1 mliu1785 swager   4939 Aug 29 22:21 epoch=49-step=200-v3.ckpt\r\n",
      "-rw-r--r--  1 mliu1785 swager   4939 Aug 29 22:12 epoch=49-step=200-v2.ckpt\r\n",
      "-rw-r--r--  1 mliu1785 swager   4939 Aug 29 22:11 epoch=49-step=200-v1.ckpt\r\n",
      "-rw-r--r--  1 mliu1785 swager   4939 Aug 29 21:55 epoch=49-step=200.ckpt\r\n",
      "-rw-r--r--  1 mliu1785 swager   4939 Aug 29 21:55 epoch=9-step=40-v3.ckpt\r\n",
      "-rw-r--r--  1 mliu1785 swager   4939 Aug 29 21:51 epoch=9-step=40-v2.ckpt\r\n",
      "-rw-r--r--  1 mliu1785 swager   4939 Aug 29 21:47 epoch=9-step=40-v1.ckpt\r\n",
      "-rw-r--r--  1 mliu1785 swager   4939 Aug 29 21:13 epoch=9-step=40.ckpt\r\n"
     ]
    }
   ],
   "source": [
    "%ls -lt"
   ]
  },
  {
   "cell_type": "code",
   "execution_count": 18,
   "id": "a8eca67b",
   "metadata": {},
   "outputs": [
    {
     "data": {
      "text/plain": [
       "(107.48041339589766, -105.13688978740464)"
      ]
     },
     "execution_count": 18,
     "metadata": {},
     "output_type": "execute_result"
    }
   ],
   "source": [
    "trained_model = Regression.load_from_checkpoint('epoch=99-step=400-v2.ckpt')\n",
    "trained_model.eval()\n",
    "x1 = 0\n",
    "x2 = 10\n",
    "x1_tensor = torch.tensor([[(x1 - x_train_mu) / x_train_scale]], dtype=torch.float32)\n",
    "x2_tensor = torch.tensor([[(x2 - x_train_mu) / x_train_scale]], dtype=torch.float32) \n",
    "with torch.no_grad():\n",
    "    y1 = trained_model(x1_tensor)[0][0].item() * y_train_scale + y_train_mu\n",
    "    y2 = trained_model(x2_tensor)[0][0].item() * y_train_scale + y_train_mu\n",
    "slope = (y2 - y1) / (x2 - x1)\n",
    "y_int = y1\n",
    "slope, y_int"
   ]
  },
  {
   "cell_type": "code",
   "execution_count": 3,
   "id": "d90149ab",
   "metadata": {},
   "outputs": [
    {
     "ename": "NameError",
     "evalue": "name 'plt' is not defined",
     "output_type": "error",
     "traceback": [
      "\u001b[0;31m---------------------------------------------------------------------------\u001b[0m",
      "\u001b[0;31mNameError\u001b[0m                                 Traceback (most recent call last)",
      "Cell \u001b[0;32mIn[3], line 1\u001b[0m\n\u001b[0;32m----> 1\u001b[0m fig, ax \u001b[38;5;241m=\u001b[39m plt\u001b[38;5;241m.\u001b[39msubplots(\u001b[38;5;241m3\u001b[39m, \u001b[38;5;241m2\u001b[39m, figsize\u001b[38;5;241m=\u001b[39m(\u001b[38;5;241m20\u001b[39m, \u001b[38;5;241m20\u001b[39m))\n\u001b[1;32m      2\u001b[0m ax \u001b[38;5;241m=\u001b[39m ax\u001b[38;5;241m.\u001b[39mflatten();\n\u001b[1;32m      3\u001b[0m \u001b[38;5;28;01mfor\u001b[39;00m i \u001b[38;5;129;01min\u001b[39;00m \u001b[38;5;28mrange\u001b[39m(\u001b[38;5;28mlen\u001b[39m(X_unstandardized)):\n",
      "\u001b[0;31mNameError\u001b[0m: name 'plt' is not defined"
     ]
    }
   ],
   "source": [
    "fig, ax = plt.subplots(3, 2, figsize=(20, 20))\n",
    "ax = ax.flatten();\n",
    "for i in range(len(X_unstandardized)):\n",
    "    ax[i].scatter(X_unstandardized[i], y_unstandardized[i], alpha=0.2)\n",
    "    ax[i].set_title(r\"$p={}$\".format(round(p_tests[i % 2], 3)) + \" and \" + r\"$q={}$\".format(round(q_tests[int(i / 2)], 3)), fontsize=20)\n",
    "    ax[i].set_xlabel(r\"$x$\", fontsize=20)\n",
    "    ax[i].set_ylabel(r\"$y$\", fontsize=20)\n",
    "    ax[i].set_ylim(0, 1500)\n",
    "    \n",
    "    lobf = LinearRegression()\n",
    "    lobf.fit(X_unstandardized[i], y_unstandardized[i])\n",
    "    y_pred = lobf.predict(X_unstandardized[i])\n",
    "    mse = mean_squared_error(y_unstandardized[i], y_pred)\n",
    "    print(len(y_undstandardized[i]), len(y_pred))\n",
    "    print(lobf.coef_, lobf.intercept_, mse)\n",
    "    ax[i].plot(X_unstandardized[i], y_pred, color='red', label='Linear Regression')\n",
    "    \n",
    "    first_two = X_unstandardized[i][:2]\n",
    "    model = LinearRegression()\n",
    "    model.fit(first_two, plot_pred[i])\n",
    "    print(model.coef_, model.intercept_)\n",
    "    model_pred = model.predict(first_two)\n",
    "    ax[i].plot(first_two, model_pred, color='black', label='Linear Regression')\n",
    "    \n",
    "    ax[i].plot([x1, x2], [y1, y2], marker='o', label='Points')\n",
    "    print(slope, y_int)\n",
    "    print()\n",
    "plt.suptitle(\"Comparing Model Predictions with Linear Regression\", fontsize=25)\n",
    "plt.savefig(\"model_pred.png\")\n",
    "plt.tight_layout()"
   ]
  },
  {
   "cell_type": "code",
   "execution_count": null,
   "id": "ae84dc76",
   "metadata": {},
   "outputs": [],
   "source": []
  },
  {
   "cell_type": "code",
   "execution_count": null,
   "id": "eecd7348",
   "metadata": {},
   "outputs": [],
   "source": []
  }
 ],
 "metadata": {
  "kernelspec": {
   "display_name": "Python 3 (ipykernel)",
   "language": "python",
   "name": "python3"
  },
  "language_info": {
   "codemirror_mode": {
    "name": "ipython",
    "version": 3
   },
   "file_extension": ".py",
   "mimetype": "text/x-python",
   "name": "python",
   "nbconvert_exporter": "python",
   "pygments_lexer": "ipython3",
   "version": "3.11.4"
  }
 },
 "nbformat": 4,
 "nbformat_minor": 5
}
